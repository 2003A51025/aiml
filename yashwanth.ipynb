{
  "nbformat": 4,
  "nbformat_minor": 0,
  "metadata": {
    "colab": {
      "name": "Untitled0.ipynb",
      "provenance": [],
      "collapsed_sections": []
    },
    "kernelspec": {
      "name": "python3",
      "display_name": "Python 3"
    },
    "language_info": {
      "name": "python"
    }
  },
  "cells": [
    {
      "cell_type": "code",
      "execution_count": 13,
      "metadata": {
        "id": "zGHdd7sAjS24"
      },
      "outputs": [],
      "source": [
        "import pandas as pd"
      ]
    },
    {
      "cell_type": "code",
      "source": [
        "import numpy as np"
      ],
      "metadata": {
        "id": "9RmVl4_3kN1O"
      },
      "execution_count": 14,
      "outputs": []
    },
    {
      "cell_type": "code",
      "source": [
        "import matplotlib.pyplot as plt"
      ],
      "metadata": {
        "id": "XQIwH0REkRGo"
      },
      "execution_count": 15,
      "outputs": []
    },
    {
      "cell_type": "code",
      "source": [
        "df=pd.read_excel(\"/content/drive/MyDrive/shiva.xlsx\")\n",
        "df.head()"
      ],
      "metadata": {
        "colab": {
          "base_uri": "https://localhost:8080/",
          "height": 206
        },
        "id": "SkLukQidkX6B",
        "outputId": "2073f90d-af3d-4b26-f3b1-5ff4b1e2a74f"
      },
      "execution_count": 64,
      "outputs": [
        {
          "output_type": "execute_result",
          "data": {
            "text/plain": [
              "   age  height  weight      steps  hear_rate   calories  distance  \\\n",
              "0   20     168    65.4  10.771429  78.531302   0.344533  0.008327   \n",
              "1   25     168    65.4  11.475325  78.453390   3.287625  0.008896   \n",
              "2   54     168    65.4  12.179221  78.540825   9.484000  0.009466   \n",
              "3   53     168    65.4  12.883117  78.628260  10.154556  0.010035   \n",
              "4   53     168    65.4  15.000000  59.000000  17.962333  0.012430   \n",
              "\n",
              "  resting_heart       device activity  \n",
              "0            59  apple watch    Lying  \n",
              "1            59  apple watch    Lying  \n",
              "2            59  apple watch    Lying  \n",
              "3            59  apple watch    Lying  \n",
              "4            59  apple watch   run-5m  "
            ],
            "text/html": [
              "\n",
              "  <div id=\"df-36021f82-7611-4f7b-9411-9c3ea6b23444\">\n",
              "    <div class=\"colab-df-container\">\n",
              "      <div>\n",
              "<style scoped>\n",
              "    .dataframe tbody tr th:only-of-type {\n",
              "        vertical-align: middle;\n",
              "    }\n",
              "\n",
              "    .dataframe tbody tr th {\n",
              "        vertical-align: top;\n",
              "    }\n",
              "\n",
              "    .dataframe thead th {\n",
              "        text-align: right;\n",
              "    }\n",
              "</style>\n",
              "<table border=\"1\" class=\"dataframe\">\n",
              "  <thead>\n",
              "    <tr style=\"text-align: right;\">\n",
              "      <th></th>\n",
              "      <th>age</th>\n",
              "      <th>height</th>\n",
              "      <th>weight</th>\n",
              "      <th>steps</th>\n",
              "      <th>hear_rate</th>\n",
              "      <th>calories</th>\n",
              "      <th>distance</th>\n",
              "      <th>resting_heart</th>\n",
              "      <th>device</th>\n",
              "      <th>activity</th>\n",
              "    </tr>\n",
              "  </thead>\n",
              "  <tbody>\n",
              "    <tr>\n",
              "      <th>0</th>\n",
              "      <td>20</td>\n",
              "      <td>168</td>\n",
              "      <td>65.4</td>\n",
              "      <td>10.771429</td>\n",
              "      <td>78.531302</td>\n",
              "      <td>0.344533</td>\n",
              "      <td>0.008327</td>\n",
              "      <td>59</td>\n",
              "      <td>apple watch</td>\n",
              "      <td>Lying</td>\n",
              "    </tr>\n",
              "    <tr>\n",
              "      <th>1</th>\n",
              "      <td>25</td>\n",
              "      <td>168</td>\n",
              "      <td>65.4</td>\n",
              "      <td>11.475325</td>\n",
              "      <td>78.453390</td>\n",
              "      <td>3.287625</td>\n",
              "      <td>0.008896</td>\n",
              "      <td>59</td>\n",
              "      <td>apple watch</td>\n",
              "      <td>Lying</td>\n",
              "    </tr>\n",
              "    <tr>\n",
              "      <th>2</th>\n",
              "      <td>54</td>\n",
              "      <td>168</td>\n",
              "      <td>65.4</td>\n",
              "      <td>12.179221</td>\n",
              "      <td>78.540825</td>\n",
              "      <td>9.484000</td>\n",
              "      <td>0.009466</td>\n",
              "      <td>59</td>\n",
              "      <td>apple watch</td>\n",
              "      <td>Lying</td>\n",
              "    </tr>\n",
              "    <tr>\n",
              "      <th>3</th>\n",
              "      <td>53</td>\n",
              "      <td>168</td>\n",
              "      <td>65.4</td>\n",
              "      <td>12.883117</td>\n",
              "      <td>78.628260</td>\n",
              "      <td>10.154556</td>\n",
              "      <td>0.010035</td>\n",
              "      <td>59</td>\n",
              "      <td>apple watch</td>\n",
              "      <td>Lying</td>\n",
              "    </tr>\n",
              "    <tr>\n",
              "      <th>4</th>\n",
              "      <td>53</td>\n",
              "      <td>168</td>\n",
              "      <td>65.4</td>\n",
              "      <td>15.000000</td>\n",
              "      <td>59.000000</td>\n",
              "      <td>17.962333</td>\n",
              "      <td>0.012430</td>\n",
              "      <td>59</td>\n",
              "      <td>apple watch</td>\n",
              "      <td>run-5m</td>\n",
              "    </tr>\n",
              "  </tbody>\n",
              "</table>\n",
              "</div>\n",
              "      <button class=\"colab-df-convert\" onclick=\"convertToInteractive('df-36021f82-7611-4f7b-9411-9c3ea6b23444')\"\n",
              "              title=\"Convert this dataframe to an interactive table.\"\n",
              "              style=\"display:none;\">\n",
              "        \n",
              "  <svg xmlns=\"http://www.w3.org/2000/svg\" height=\"24px\"viewBox=\"0 0 24 24\"\n",
              "       width=\"24px\">\n",
              "    <path d=\"M0 0h24v24H0V0z\" fill=\"none\"/>\n",
              "    <path d=\"M18.56 5.44l.94 2.06.94-2.06 2.06-.94-2.06-.94-.94-2.06-.94 2.06-2.06.94zm-11 1L8.5 8.5l.94-2.06 2.06-.94-2.06-.94L8.5 2.5l-.94 2.06-2.06.94zm10 10l.94 2.06.94-2.06 2.06-.94-2.06-.94-.94-2.06-.94 2.06-2.06.94z\"/><path d=\"M17.41 7.96l-1.37-1.37c-.4-.4-.92-.59-1.43-.59-.52 0-1.04.2-1.43.59L10.3 9.45l-7.72 7.72c-.78.78-.78 2.05 0 2.83L4 21.41c.39.39.9.59 1.41.59.51 0 1.02-.2 1.41-.59l7.78-7.78 2.81-2.81c.8-.78.8-2.07 0-2.86zM5.41 20L4 18.59l7.72-7.72 1.47 1.35L5.41 20z\"/>\n",
              "  </svg>\n",
              "      </button>\n",
              "      \n",
              "  <style>\n",
              "    .colab-df-container {\n",
              "      display:flex;\n",
              "      flex-wrap:wrap;\n",
              "      gap: 12px;\n",
              "    }\n",
              "\n",
              "    .colab-df-convert {\n",
              "      background-color: #E8F0FE;\n",
              "      border: none;\n",
              "      border-radius: 50%;\n",
              "      cursor: pointer;\n",
              "      display: none;\n",
              "      fill: #1967D2;\n",
              "      height: 32px;\n",
              "      padding: 0 0 0 0;\n",
              "      width: 32px;\n",
              "    }\n",
              "\n",
              "    .colab-df-convert:hover {\n",
              "      background-color: #E2EBFA;\n",
              "      box-shadow: 0px 1px 2px rgba(60, 64, 67, 0.3), 0px 1px 3px 1px rgba(60, 64, 67, 0.15);\n",
              "      fill: #174EA6;\n",
              "    }\n",
              "\n",
              "    [theme=dark] .colab-df-convert {\n",
              "      background-color: #3B4455;\n",
              "      fill: #D2E3FC;\n",
              "    }\n",
              "\n",
              "    [theme=dark] .colab-df-convert:hover {\n",
              "      background-color: #434B5C;\n",
              "      box-shadow: 0px 1px 3px 1px rgba(0, 0, 0, 0.15);\n",
              "      filter: drop-shadow(0px 1px 2px rgba(0, 0, 0, 0.3));\n",
              "      fill: #FFFFFF;\n",
              "    }\n",
              "  </style>\n",
              "\n",
              "      <script>\n",
              "        const buttonEl =\n",
              "          document.querySelector('#df-36021f82-7611-4f7b-9411-9c3ea6b23444 button.colab-df-convert');\n",
              "        buttonEl.style.display =\n",
              "          google.colab.kernel.accessAllowed ? 'block' : 'none';\n",
              "\n",
              "        async function convertToInteractive(key) {\n",
              "          const element = document.querySelector('#df-36021f82-7611-4f7b-9411-9c3ea6b23444');\n",
              "          const dataTable =\n",
              "            await google.colab.kernel.invokeFunction('convertToInteractive',\n",
              "                                                     [key], {});\n",
              "          if (!dataTable) return;\n",
              "\n",
              "          const docLinkHtml = 'Like what you see? Visit the ' +\n",
              "            '<a target=\"_blank\" href=https://colab.research.google.com/notebooks/data_table.ipynb>data table notebook</a>'\n",
              "            + ' to learn more about interactive tables.';\n",
              "          element.innerHTML = '';\n",
              "          dataTable['output_type'] = 'display_data';\n",
              "          await google.colab.output.renderOutput(dataTable, element);\n",
              "          const docLink = document.createElement('div');\n",
              "          docLink.innerHTML = docLinkHtml;\n",
              "          element.appendChild(docLink);\n",
              "        }\n",
              "      </script>\n",
              "    </div>\n",
              "  </div>\n",
              "  "
            ]
          },
          "metadata": {},
          "execution_count": 64
        }
      ]
    },
    {
      "cell_type": "code",
      "source": [
        "x=df[\"age\"]\n",
        "y=df[\"hear_rate\"]\n",
        "plt.bar(x,y)\n",
        "plt.xlabel(\"AGE\")\n",
        "plt.ylabel(\"HEART RATE\")\n",
        "plt.show()"
      ],
      "metadata": {
        "colab": {
          "base_uri": "https://localhost:8080/",
          "height": 279
        },
        "id": "2v_y1QQSm8cW",
        "outputId": "8c6dd779-d027-43c8-e073-1bb4d73c44d0"
      },
      "execution_count": 59,
      "outputs": [
        {
          "output_type": "display_data",
          "data": {
            "text/plain": [
              "<Figure size 432x288 with 1 Axes>"
            ],
            "image/png": "[encoded data removed]"
          },
          "metadata": {
            "needs_background": "light"
          }
        }
      ]
    },
    {
      "cell_type": "markdown",
      "source": [
        "By this we can analyze the age and average heart rate of the person"
      ],
      "metadata": {
        "id": "5xGW206bpm5N"
      }
    },
    {
      "cell_type": "code",
      "source": [
        "x=df[\"age\"]\n",
        "y=df[\"calories\"]\n",
        "plt.bar(x,y)\n",
        "plt.xlabel(\"AGE\")\n",
        "plt.ylabel(\"CALORIES\")\n",
        "plt.show()"
      ],
      "metadata": {
        "colab": {
          "base_uri": "https://localhost:8080/",
          "height": 279
        },
        "id": "TTcyC42LlPrv",
        "outputId": "11970da7-7f3c-495a-e982-8f6898e65097"
      },
      "execution_count": 60,
      "outputs": [
        {
          "output_type": "display_data",
          "data": {
            "text/plain": [
              "<Figure size 432x288 with 1 Axes>"
            ],
            "image/png": "[encoded data removed]"
          },
          "metadata": {
            "needs_background": "light"
          }
        }
      ]
    },
    {
      "cell_type": "markdown",
      "source": [
        "By this we can analyze the age and calories of the person respectively."
      ],
      "metadata": {
        "id": "y7EWuDQ8qMYE"
      }
    },
    {
      "cell_type": "code",
      "source": [
        "x=df[\"age\"]\n",
        "y=df[\"steps\"]\n",
        "plt.bar(x,y)\n",
        "plt.xlabel(\"AGE\")\n",
        "plt.ylabel(\"steps\")\n",
        "plt.show()"
      ],
      "metadata": {
        "id": "lariWgdJmPLJ",
        "colab": {
          "base_uri": "https://localhost:8080/",
          "height": 279
        },
        "outputId": "4c24860e-4702-4825-f78a-48e23458fa4a"
      },
      "execution_count": 52,
      "outputs": [
        {
          "output_type": "display_data",
          "data": {
            "text/plain": [
              "<Figure size 432x288 with 1 Axes>"
            ],
            "image/png": "[encoded data removed]"
          },
          "metadata": {
            "needs_background": "light"
          }
        }
      ]
    },
    {
      "cell_type": "markdown",
      "source": [
        "By this we can analyze the age and the walking rate in steps ."
      ],
      "metadata": {
        "id": "SDT93pZgqar_"
      }
    },
    {
      "cell_type": "code",
      "source": [
        "x=df[\"age\"]\n",
        "y=df[\"distance\"]\n",
        "plt.bar(x,y)\n",
        "plt.xlabel(\"AGE\")\n",
        "plt.ylabel(\"distance\")\n",
        "plt.show()"
      ],
      "metadata": {
        "id": "SANEbbq9mJJe",
        "colab": {
          "base_uri": "https://localhost:8080/",
          "height": 279
        },
        "outputId": "47ba1a60-c188-4138-ac5b-713f6f0d1bac"
      },
      "execution_count": 65,
      "outputs": [
        {
          "output_type": "display_data",
          "data": {
            "text/plain": [
              "<Figure size 432x288 with 1 Axes>"
            ],
            "image/png": "[encoded data removed]"
          },
          "metadata": {
            "needs_background": "light"
          }
        }
      ]
    },
    {
      "cell_type": "markdown",
      "source": [
        "By this we can analyze the age and average distance walked by a person in a day"
      ],
      "metadata": {
        "id": "dQhULgyDqq1n"
      }
    },
    {
      "cell_type": "code",
      "source": [
        "x=df[\"activity\"]\n",
        "y=df[\"calories\"]\n",
        "plt.bar(x,y)\n",
        "plt.xlabel(\"ACTIVITY\")\n",
        "plt.ylabel(\"CALORIES\")\n",
        "plt.show()"
      ],
      "metadata": {
        "colab": {
          "base_uri": "https://localhost:8080/",
          "height": 279
        },
        "id": "rZ5t_1NWGgi9",
        "outputId": "8bd4fd93-e521-4ad5-86f5-becdf2a0ac35"
      },
      "execution_count": 77,
      "outputs": [
        {
          "output_type": "display_data",
          "data": {
            "text/plain": [
              "<Figure size 432x288 with 1 Axes>"
            ],
            "image/png": "[encoded data removed]"
          },
          "metadata": {
            "needs_background": "light"
          }
        }
      ]
    },
    {
      "cell_type": "code",
      "source": [
        "x=df[\"device\"]\n",
        "y=df[\"calories\"]\n",
        "plt.bar(x,y)\n",
        "plt.xlabel(\"DEVICE\")\n",
        "plt.ylabel(\"CALORIES\")\n",
        "plt.show()"
      ],
      "metadata": {
        "colab": {
          "base_uri": "https://localhost:8080/",
          "height": 279
        },
        "id": "B4wD-3B6czO1",
        "outputId": "b0ac2175-1596-4923-d8e9-ec5840a4b6df"
      },
      "execution_count": 78,
      "outputs": [
        {
          "output_type": "display_data",
          "data": {
            "text/plain": [
              "<Figure size 432x288 with 1 Axes>"
            ],
            "image/png": "[encoded data removed]"
          },
          "metadata": {
            "needs_background": "light"
          }
        }
      ]
    },
    {
      "cell_type": "code",
      "source": [
        "x=df[\"device\"]\n",
        "y=df[\"distance\"]\n",
        "plt.bar(x,y)\n",
        "plt.xlabel(\"DEVICE\")\n",
        "plt.ylabel(\"DISTANCE\")\n",
        "plt.show()"
      ],
      "metadata": {
        "colab": {
          "base_uri": "https://localhost:8080/",
          "height": 279
        },
        "id": "J_SUdm0zdBHG",
        "outputId": "11f42e41-2209-4e44-9e4d-cf7ce09b03a3"
      },
      "execution_count": 79,
      "outputs": [
        {
          "output_type": "display_data",
          "data": {
            "text/plain": [
              "<Figure size 432x288 with 1 Axes>"
            ],
            "image/png": "[encoded data removed]"
          },
          "metadata": {
            "needs_background": "light"
          }
        }
      ]
    },
    {
      "cell_type": "code",
      "source": [
        "x=df[\"device\"]\n",
        "y=df[\"weight\"]\n",
        "plt.bar(x,y)\n",
        "plt.xlabel(\"DEVICE\")\n",
        "plt.ylabel(\"WEIGHT\")\n",
        "plt.show()"
      ],
      "metadata": {
        "colab": {
          "base_uri": "https://localhost:8080/",
          "height": 279
        },
        "id": "5Z0Fpk9KdbUa",
        "outputId": "b68fef2e-1c77-45a9-83be-e5c005358028"
      },
      "execution_count": 71,
      "outputs": [
        {
          "output_type": "display_data",
          "data": {
            "text/plain": [
              "<Figure size 432x288 with 1 Axes>"
            ],
            "image/png": "[encoded data removed]"
          },
          "metadata": {
            "needs_background": "light"
          }
        }
      ]
    },
    {
      "cell_type": "code",
      "source": [
        "x=df[\"device\"]\n",
        "y=df[\"height\"]\n",
        "plt.bar(x,y)\n",
        "plt.xlabel(\"DEVICE\")\n",
        "plt.ylabel(\"HEIGHT\")\n",
        "plt.show()"
      ],
      "metadata": {
        "colab": {
          "base_uri": "https://localhost:8080/",
          "height": 279
        },
        "id": "HtS854iTd5b7",
        "outputId": "50009975-c582-4e4f-de15-87453ba9343f"
      },
      "execution_count": 80,
      "outputs": [
        {
          "output_type": "display_data",
          "data": {
            "text/plain": [
              "<Figure size 432x288 with 1 Axes>"
            ],
            "image/png": "[encoded data removed]"
          },
          "metadata": {
            "needs_background": "light"
          }
        }
      ]
    },
    {
      "cell_type": "code",
      "source": [
        "x=df[\"device\"]\n",
        "y=df[\"hear_rate\"]\n",
        "plt.bar(x,y)\n",
        "plt.xlabel(\"DEVICE\")\n",
        "plt.ylabel(\"HEART RATE\")\n",
        "plt.show()"
      ],
      "metadata": {
        "colab": {
          "base_uri": "https://localhost:8080/",
          "height": 279
        },
        "id": "lggEzx8ApICY",
        "outputId": "f1d66542-1c87-44fc-e764-f91a25cb01e6"
      },
      "execution_count": 81,
      "outputs": [
        {
          "output_type": "display_data",
          "data": {
            "text/plain": [
              "<Figure size 432x288 with 1 Axes>"
            ],
            "image/png": "[encoded data removed]"
          },
          "metadata": {
            "needs_background": "light"
          }
        }
      ]
    },
    {
      "cell_type": "code",
      "source": [
        "x=df[\"device\"]\n",
        "y=df[\"activity\"]\n",
        "plt.bar(x,y)\n",
        "plt.xlabel(\"DEVICE\")\n",
        "plt.ylabel(\"ACTIVITY\")\n",
        "plt.show()"
      ],
      "metadata": {
        "colab": {
          "base_uri": "https://localhost:8080/",
          "height": 279
        },
        "id": "JDG9JueHpMmC",
        "outputId": "678d7ec3-cb8a-4624-8a22-50f6ef86ccfc"
      },
      "execution_count": 76,
      "outputs": [
        {
          "output_type": "display_data",
          "data": {
            "text/plain": [
              "<Figure size 432x288 with 1 Axes>"
            ],
            "image/png": "[encoded data removed]"
          },
          "metadata": {
            "needs_background": "light"
          }
        }
      ]
    }
  ]
}
